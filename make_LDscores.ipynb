{
 "cells": [
  {
   "cell_type": "markdown",
   "metadata": {},
   "source": [
    "## Make LD scores for S-LDSC\n",
    "\n",
    "1000Genomes EUR,\n",
    "ChIP-seq from ChIP-Atlas"
   ]
  },
  {
   "cell_type": "code",
   "execution_count": 1,
   "metadata": {},
   "outputs": [
    {
     "name": "stderr",
     "output_type": "stream",
     "text": [
      "Running on Apache Spark version 2.2.3\n",
      "SparkUI available at http://10.128.0.38:4040\n",
      "Welcome to\n",
      "     __  __     <>__\n",
      "    / /_/ /__  __/ /\n",
      "   / __  / _ `/ / /\n",
      "  /_/ /_/\\_,_/_/_/   version 0.2.12-13681278eb89\n",
      "LOGGING: writing to /home/hail/hail-20190513-1909-0.2.12-13681278eb89.log\n"
     ]
    }
   ],
   "source": [
    "import hail as hl\n",
    "from hail.linalg import BlockMatrix\n",
    "hl.init()"
   ]
  },
  {
   "cell_type": "markdown",
   "metadata": {},
   "source": [
    "Convenience directories and files"
   ]
  },
  {
   "cell_type": "code",
   "execution_count": 117,
   "metadata": {},
   "outputs": [],
   "source": [
    "LDSC_dir = \"gs://ulirsch_epi511/\""
   ]
  },
  {
   "cell_type": "markdown",
   "metadata": {},
   "source": [
    "Read in 1000G Matrix table"
   ]
  },
  {
   "cell_type": "code",
   "execution_count": 118,
   "metadata": {},
   "outputs": [],
   "source": [
    "mt = hl.experimental.load_dataset(name='1000_Genomes_autosomes', version='phase_3', reference_genome='GRCh37')"
   ]
  },
  {
   "cell_type": "markdown",
   "metadata": {},
   "source": [
    "Filter to EUR and MAF > 0.01"
   ]
  },
  {
   "cell_type": "code",
   "execution_count": 119,
   "metadata": {},
   "outputs": [],
   "source": [
    "mt = mt.filter_cols(mt.super_population == \"EUR\")\n",
    "mt = mt.filter_rows(mt.info['EUR_AF'] >= 0.01)\n",
    "mt = mt.filter_rows(mt.info['EUR_AF'] <= 0.99)"
   ]
  },
  {
   "cell_type": "code",
   "execution_count": 166,
   "metadata": {},
   "outputs": [
    {
     "name": "stdout",
     "output_type": "stream",
     "text": [
      "----------------------------------------\n",
      "Global fields:\n",
      "    'metadata': struct {\n",
      "        name: str, \n",
      "        version: str, \n",
      "        reference_genome: str, \n",
      "        n_rows: int32, \n",
      "        n_cols: int32, \n",
      "        n_partitions: int32\n",
      "    } \n",
      "----------------------------------------\n",
      "Row fields:\n",
      "    'locus': locus<GRCh37> \n",
      "    'alleles': array<str> \n",
      "    'rsid': str \n",
      "    'qual': float64 \n",
      "    'filters': set<str> \n",
      "    'info.CIEND': int32 \n",
      "    'info.CIPOS': int32 \n",
      "    'info.CS': str \n",
      "    'info.END': int32 \n",
      "    'info.IMPRECISE': bool \n",
      "    'info.MC': array<str> \n",
      "    'info.MEINFO': array<str> \n",
      "    'info.MEND': int32 \n",
      "    'info.MLEN': int32 \n",
      "    'info.MSTART': int32 \n",
      "    'info.SVLEN': array<int32> \n",
      "    'info.SVTYPE': str \n",
      "    'info.TSD': str \n",
      "    'info.AC': int32 \n",
      "    'info.AF': float64 \n",
      "    'info.NS': int32 \n",
      "    'info.AN': int32 \n",
      "    'info.EAS_AF': float64 \n",
      "    'info.EUR_AF': float64 \n",
      "    'info.AFR_AF': float64 \n",
      "    'info.AMR_AF': float64 \n",
      "    'info.SAS_AF': float64 \n",
      "    'info.DP': int32 \n",
      "    'info.AA': str \n",
      "    'info.VT': str \n",
      "    'info.EX_TARGET': bool \n",
      "    'info.MULTI_ALLELIC': bool \n",
      "    'a_index': int32 \n",
      "    'was_split': bool \n",
      "    'old_locus': locus<GRCh37> \n",
      "    'old_alleles': array<str> \n",
      "    'variant_qc.AC': array<int32> \n",
      "    'variant_qc.AF': array<float64> \n",
      "    'variant_qc.AN': int32 \n",
      "    'variant_qc.homozygote_count': array<int32> \n",
      "    'variant_qc.n_called': int64 \n",
      "    'variant_qc.n_not_called': int64 \n",
      "    'variant_qc.call_rate': float32 \n",
      "    'variant_qc.n_het': int64 \n",
      "    'variant_qc.n_non_ref': int64 \n",
      "    'variant_qc.het_freq_hwe': float64 \n",
      "    'variant_qc.p_value_hwe': float64 \n",
      "----------------------------------------\n",
      "Key: []\n",
      "----------------------------------------\n"
     ]
    }
   ],
   "source": [
    "var = mt.rows().flatten()\n",
    "var.describe()"
   ]
  },
  {
   "cell_type": "markdown",
   "metadata": {},
   "source": [
    "Write out filtered Matrix table"
   ]
  },
  {
   "cell_type": "code",
   "execution_count": 120,
   "metadata": {},
   "outputs": [
    {
     "name": "stderr",
     "output_type": "stream",
     "text": [
      "2019-05-14 05:55:48 Hail: INFO: wrote matrix table with 9789219 rows and 503 columns in 536 partitions to gs://ulirsch_epi511/1KG_EUR_MAF01.mt\n"
     ]
    }
   ],
   "source": [
    "mt.write(LDSC_dir + \"1KG_EUR_MAF01.mt\", overwrite = True)"
   ]
  },
  {
   "cell_type": "code",
   "execution_count": 121,
   "metadata": {},
   "outputs": [],
   "source": [
    "mt = hl.read_matrix_table(LDSC_dir + \"1KG_EUR_MAF01.mt\")"
   ]
  },
  {
   "cell_type": "markdown",
   "metadata": {},
   "source": [
    "Write out variant IDs"
   ]
  },
  {
   "cell_type": "code",
   "execution_count": 167,
   "metadata": {},
   "outputs": [
    {
     "name": "stderr",
     "output_type": "stream",
     "text": [
      "2019-05-14 21:05:12 Hail: INFO: while writing:\n",
      "    gs://ulirsch_epi511/1KG_EUR_MAF01_rsIDs.txt\n",
      "  merge time: 38.820s\n"
     ]
    }
   ],
   "source": [
    "var = mt.rows().flatten().select('locus', 'rsid', 'info.EUR_AF')\n",
    "var.export(LDSC_dir + \"1KG_EUR_MAF01_rsIDs.txt\")"
   ]
  },
  {
   "cell_type": "markdown",
   "metadata": {},
   "source": [
    "Calculate LD"
   ]
  },
  {
   "cell_type": "code",
   "execution_count": 124,
   "metadata": {},
   "outputs": [
    {
     "name": "stderr",
     "output_type": "stream",
     "text": [
      "2019-05-14 06:12:18 Hail: INFO: Wrote all 2390 blocks of 9789219 x 503 matrix with block size 4096.\n",
      "2019-05-14 06:22:39 Hail: INFO: wrote matrix with 9789219 rows and 9789219 columns as 17616 blocks of size 4096 to gs://ulirsch_epi511/1KG_EUR_MAF01.ld\n"
     ]
    }
   ],
   "source": [
    "bm_ld = hl.ld_matrix(mt.GT.n_alt_alleles(), mt.locus, radius = 3e6)\n",
    "bm_ld = bm_ld ** 2\n",
    "bm_ld.write(LDSC_dir + \"1KG_EUR_MAF01.ld\", overwrite = True)"
   ]
  },
  {
   "cell_type": "code",
   "execution_count": 126,
   "metadata": {},
   "outputs": [],
   "source": [
    "bm_ld = BlockMatrix.read(LDSC_dir + \"1KG_EUR_MAF01.ld\")"
   ]
  },
  {
   "cell_type": "markdown",
   "metadata": {},
   "source": [
    "Read in annotation matrix and convert to BlockMatrix"
   ]
  },
  {
   "cell_type": "code",
   "execution_count": 127,
   "metadata": {},
   "outputs": [],
   "source": [
    "mt_annot = hl.import_matrix_table(LDSC_dir + \"1KG_EUR_MAF01_ChIPAtlas_TFs_test.tsv.gz\")                "
   ]
  },
  {
   "cell_type": "code",
   "execution_count": 129,
   "metadata": {},
   "outputs": [
    {
     "name": "stderr",
     "output_type": "stream",
     "text": [
      "2019-05-14 09:20:22 Hail: INFO: Wrote all 2390 blocks of 9789219 x 781 matrix with block size 4096.\n"
     ]
    }
   ],
   "source": [
    "BlockMatrix.write_from_entry_expr(mt_annot.x, LDSC_dir + '1KG_EUR_MAF01_ChIPAtlas_TFs_test.bm', overwrite = True)"
   ]
  },
  {
   "cell_type": "code",
   "execution_count": 130,
   "metadata": {},
   "outputs": [],
   "source": [
    "bm_annot = BlockMatrix.read(LDSC_dir + \"1KG_EUR_MAF01_ChIPAtlas_TFs_test.bm\")"
   ]
  },
  {
   "cell_type": "markdown",
   "metadata": {},
   "source": [
    "Create LD scores"
   ]
  },
  {
   "cell_type": "code",
   "execution_count": 131,
   "metadata": {},
   "outputs": [
    {
     "name": "stderr",
     "output_type": "stream",
     "text": [
      "2019-05-14 09:23:19 Hail: INFO: wrote matrix with 9789219 rows and 781 columns as 2390 blocks of size 4096 to gs://ulirsch_epi511/1KG_EUR_MAF01.ldsc\n"
     ]
    }
   ],
   "source": [
    "bm_LDscore = bm_ld @ bm_annot\n",
    "bm_LDscore.write(LDSC_dir + \"1KG_EUR_MAF01.ldsc\", overwrite = True)"
   ]
  },
  {
   "cell_type": "code",
   "execution_count": 132,
   "metadata": {},
   "outputs": [],
   "source": [
    "bm_LDscore = BlockMatrix.read(LDSC_dir + \"1KG_EUR_MAF01.ldsc\")"
   ]
  },
  {
   "cell_type": "markdown",
   "metadata": {},
   "source": [
    "Write LD scores"
   ]
  },
  {
   "cell_type": "code",
   "execution_count": 150,
   "metadata": {},
   "outputs": [],
   "source": [
    "# Initialize output\n",
    "recantangles = list()\n",
    "\n",
    "# Get size of LD score matrix\n",
    "var_stop = bm_LDscore.shape[0]\n",
    "annot_start = 0\n",
    "annot_stop = bm_LDscore.shape[1]\n",
    "\n",
    "# Create list of rectangles\n",
    "for annot_pos in range(annot_start, annot_stop):\n",
    "        rectangles.append([0, var_stop, annot_pos, annot_pos + 1])"
   ]
  },
  {
   "cell_type": "code",
   "execution_count": 152,
   "metadata": {},
   "outputs": [],
   "source": [
    "# Output LD scores\n",
    "bm_LDscore.export_rectangles(LDSC_dir + \"1KG_EUR_MAF01.l2/\", rectangles, delimiter = '\\t', binary = False)"
   ]
  },
  {
   "cell_type": "code",
   "execution_count": null,
   "metadata": {},
   "outputs": [],
   "source": []
  }
 ],
 "metadata": {
  "kernelspec": {
   "display_name": "Hail",
   "language": "python",
   "name": "hail"
  },
  "language_info": {
   "codemirror_mode": {
    "name": "ipython",
    "version": 3
   },
   "file_extension": ".py",
   "mimetype": "text/x-python",
   "name": "python",
   "nbconvert_exporter": "python",
   "pygments_lexer": "ipython3",
   "version": "3.6.4"
  }
 },
 "nbformat": 4,
 "nbformat_minor": 2
}
